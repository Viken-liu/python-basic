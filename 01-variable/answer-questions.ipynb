{
 "cells": [
  {
   "cell_type": "markdown",
   "metadata": {},
   "source": [
    "# Python 学习开始寄语\n",
    "\n",
    "就像要和外国人沟通要学外语一样，要有效的和计算机沟能也要学习计算机的语言。\n",
    "\n",
    "很高兴能和大家一起学 Python， Python 是一门易学的计算机语言。\n",
    "\n",
    "## 怎么学 Python\n",
    "\n",
    "编程是一门实践者的科学，就如学习外语一样；只看书学不会一门外语，不动手也同样学不会 Python.\n",
    "\n",
    "我们会使用 Notebook/Colab 的开发环境来学习 Python, 大家可以像学习Excel一样，在Python格子里写代码。\n",
    "\n",
    "当大家按自己理解写下代码，再点击运行，这就是最好的学习方法之一。\n",
    "\n",
    "## 碰到不懂的问题\n",
    "\n",
    "学习 Python 比学习一问外语容易的地方是现在有了 Google/Baidu, 碰到问题可以查\n",
    "\n",
    "很多程序员每天的工作也是 Google/Baidu, 因为那么多的方法和公式没有人能记得住\n",
    "\n",
    "大家要记得一个事情：学习的目的是为了学习解决问题的方法和思路，而不是背诵知识，因为在背诵上人是永远不可能打败计算机的。\n",
    "\n",
    "在初始学习阶段，老师会帮大家整理很多参考资料链接，大家一定要注意看！\n"
   ]
  },
  {
   "cell_type": "markdown",
   "metadata": {},
   "source": [
    "# 打招呼机器人\n",
    "---\n",
    "题目：\n",
    "\n",
    "* 提示用户输入姓名\n",
    "* 然后输出 Hi + 姓名\n",
    "---\n",
    "参考：\n",
    "\n",
    "* [变量的创建和赋值](https://github.com/TwoWater/Python/blob/master/Article/PythonBasis/python2/Variable.md)\n",
    "* [Python 变量的数据类型](https://www.runoob.com/python3/python3-data-type.html)  \n",
    "* [Python3 input() 函数](https://www.runoob.com/python3/python3-func-input.html)\n",
    "\n",
    "* 注意：在 input 输入框里输入完信息后一定要按回车，不然计算机不知道！"
   ]
  },
  {
   "cell_type": "code",
   "execution_count": 1,
   "metadata": {
    "ExecuteTime": {
     "end_time": "2020-07-13T08:09:58.056445Z",
     "start_time": "2020-07-13T08:09:53.359605Z"
    }
   },
   "outputs": [
    {
     "name": "stdout",
     "output_type": "stream",
     "text": [
      "请输入你的姓名：Peter\n",
      "Hi Peter!\n"
     ]
    }
   ],
   "source": [
    "name = input(\"请输入你的姓名：\")\n",
    "print(\"Hi \" + name + \"!\")"
   ]
  },
  {
   "cell_type": "markdown",
   "metadata": {
    "ExecuteTime": {
     "end_time": "2020-07-13T08:16:48.471922Z",
     "start_time": "2020-07-13T08:16:48.467896Z"
    }
   },
   "source": [
    "# 邮件机器人\n",
    "---\n",
    "题目:\n",
    "\n",
    "* 假设计你是要给自动给客户发邮件的运营人员\n",
    "* 提示运营人员输入姓名 \n",
    "* 提示运营人输入购买的商品 \n",
    "* 输出邮件格式如下：\n",
    "\n",
    "Dear [用户姓名]:\n",
    "    \n",
    "Your purchased product : [产品名] is delivered!\n",
    "    \n",
    "Thanks for your choosing!\n",
    "\n",
    "---\n",
    "参考:   \n",
    "\n",
    "* [使用三引号处理多行字符串](https://blog.csdn.net/sinat_41104353/article/details/79266048)\n",
    "\n",
    "\n",
    "* [python3处理字符串](https://www.runoob.com/python3/python3-string.html)\n",
    "\n",
    "   请查看 Python三引号/Python字符串格式化 两节\n",
    "   \n",
    "   大家可以把自己代入进去，想想有个机器人能帮你做事！\n",
    "\n",
    "\n",
    "* [最全面的 python 字符串拼接总结](https://segmentfault.com/a/1190000015475309)\n",
    "\n",
    "    "
   ]
  },
  {
   "cell_type": "code",
   "execution_count": 9,
   "metadata": {
    "ExecuteTime": {
     "end_time": "2020-07-13T08:47:49.423218Z",
     "start_time": "2020-07-13T08:47:42.947106Z"
    }
   },
   "outputs": [
    {
     "name": "stdout",
     "output_type": "stream",
     "text": [
      "请输入客户姓名:Peter\n",
      "请输入商品名:AirPods\n",
      "\n",
      "Dear Peter:\n",
      "\n",
      "Your purchased product : AirPods is delivered!\n",
      "\n",
      "Thanks for your choosing!\n",
      "\n"
     ]
    }
   ],
   "source": [
    "email_template = \"\"\"\n",
    "Dear %s:\n",
    "\n",
    "Your purchased product : %s is delivered!\n",
    "\n",
    "Thanks for your choosing!\n",
    "\"\"\"\n",
    "name = input(\"请输入客户姓名:\")\n",
    "product = input(\"请输入商品名:\")\n",
    "\n",
    "email_body = email_template % (name,product)\n",
    "print(email_body)"
   ]
  },
  {
   "cell_type": "markdown",
   "metadata": {},
   "source": [
    "# 截取字符串\n",
    "---\n",
    "题目:\n",
    "\n",
    "从 \"You Rise Me Up\" 中截取 Rise\n",
    "\n",
    "---\n",
    "参考：\n",
    "\n",
    "* [截取字符串的方法详解](https://blog.csdn.net/weixin_42350212/article/details/80551677)"
   ]
  },
  {
   "cell_type": "code",
   "execution_count": 6,
   "metadata": {
    "ExecuteTime": {
     "end_time": "2020-07-13T08:40:38.975750Z",
     "start_time": "2020-07-13T08:40:38.972732Z"
    }
   },
   "outputs": [
    {
     "name": "stdout",
     "output_type": "stream",
     "text": [
      "Rise\n"
     ]
    }
   ],
   "source": [
    "title = \"You Rise Me up\"\n",
    "print(title[4:8])"
   ]
  },
  {
   "cell_type": "markdown",
   "metadata": {},
   "source": [
    "# 字符串大小写转换\n",
    "---\n",
    "问题：\n",
    "* 将 \"Python Basic\" 转成小写\n",
    "\n",
    "---\n",
    "参考:\n",
    "\n",
    "* [Python 字符串大小写转换](https://www.runoob.com/python3/python3-upper-lower.html)\n",
    "\n",
    "\n",
    "\n",
    "* [Python3 字符串](https://www.runoob.com/python3/python3-string.html)\n",
    "\n",
    "  请翻到 “Python 的字符串内建函数“，这里不但有大小写转换函数，也有其它Python字符串自带的函数的介绍\n"
   ]
  },
  {
   "cell_type": "code",
   "execution_count": 7,
   "metadata": {
    "ExecuteTime": {
     "end_time": "2020-07-13T08:41:14.420990Z",
     "start_time": "2020-07-13T08:41:14.417530Z"
    }
   },
   "outputs": [
    {
     "name": "stdout",
     "output_type": "stream",
     "text": [
      "python basic\n"
     ]
    }
   ],
   "source": [
    "title = \"Python Basic\"\n",
    "print(title.lower())"
   ]
  },
  {
   "cell_type": "markdown",
   "metadata": {},
   "source": [
    "# 数值计算\n",
    "--- \n",
    "题目：\n",
    "\n",
    "* 计算 1000 乘以 2000，再减 1000000\n",
    "* 打印出结果"
   ]
  },
  {
   "cell_type": "code",
   "execution_count": 10,
   "metadata": {
    "ExecuteTime": {
     "end_time": "2020-07-13T08:58:50.891608Z",
     "start_time": "2020-07-13T08:58:50.888118Z"
    }
   },
   "outputs": [
    {
     "name": "stdout",
     "output_type": "stream",
     "text": [
      "1000000\n"
     ]
    }
   ],
   "source": [
    "a = 1000\n",
    "b = 2000\n",
    "c = a * b\n",
    "c = c - 1000000\n",
    "print(c)"
   ]
  },
  {
   "cell_type": "markdown",
   "metadata": {
    "ExecuteTime": {
     "end_time": "2020-07-13T09:00:17.331548Z",
     "start_time": "2020-07-13T09:00:17.328583Z"
    }
   },
   "source": [
    "# 变量类型 (附加题，不考)\n",
    "---\n",
    "题目：\n",
    "\n",
    "* 猜一下下面两行代码的执行结果：\n",
    "* print(type(100))\n",
    "* print(type(\"Hello\"))\n",
    "\n",
    "---\n",
    "参考：\n",
    "* [Python type() 函数](https://www.runoob.com/python/python-func-type.html)"
   ]
  },
  {
   "cell_type": "code",
   "execution_count": 13,
   "metadata": {
    "ExecuteTime": {
     "end_time": "2020-07-13T09:00:34.525228Z",
     "start_time": "2020-07-13T09:00:34.522194Z"
    }
   },
   "outputs": [
    {
     "name": "stdout",
     "output_type": "stream",
     "text": [
      "<class 'int'>\n",
      "<class 'str'>\n"
     ]
    }
   ],
   "source": [
    "print(type(100))\n",
    "print(type(\"Hello\"))"
   ]
  },
  {
   "cell_type": "markdown",
   "metadata": {},
   "source": [
    "# Python 开发规范 (写最好代码，但不考）\n",
    "\n",
    "就像写邮件需要注意格式一样，写代码也需要注意格式和命名：\n",
    "\n",
    "https://blog.csdn.net/xufive/article/details/84957425\n",
    "\n",
    "* 变量名尽量小写, 如有多个单词，用下划线隔开\n",
    "* 每个代码格里的代码行数最好不要超过10行\n",
    "\n"
   ]
  }
 ],
 "metadata": {
  "kernelspec": {
   "display_name": "Python 3",
   "language": "python",
   "name": "python3"
  },
  "language_info": {
   "codemirror_mode": {
    "name": "ipython",
    "version": 3
   },
   "file_extension": ".py",
   "mimetype": "text/x-python",
   "name": "python",
   "nbconvert_exporter": "python",
   "pygments_lexer": "ipython3",
   "version": "3.7.6"
  },
  "toc": {
   "base_numbering": 1,
   "nav_menu": {},
   "number_sections": true,
   "sideBar": true,
   "skip_h1_title": false,
   "title_cell": "Table of Contents",
   "title_sidebar": "Contents",
   "toc_cell": false,
   "toc_position": {},
   "toc_section_display": true,
   "toc_window_display": true
  },
  "varInspector": {
   "cols": {
    "lenName": 16,
    "lenType": 16,
    "lenVar": 40
   },
   "kernels_config": {
    "python": {
     "delete_cmd_postfix": "",
     "delete_cmd_prefix": "del ",
     "library": "var_list.py",
     "varRefreshCmd": "print(var_dic_list())"
    },
    "r": {
     "delete_cmd_postfix": ") ",
     "delete_cmd_prefix": "rm(",
     "library": "var_list.r",
     "varRefreshCmd": "cat(var_dic_list()) "
    }
   },
   "types_to_exclude": [
    "module",
    "function",
    "builtin_function_or_method",
    "instance",
    "_Feature"
   ],
   "window_display": false
  }
 },
 "nbformat": 4,
 "nbformat_minor": 4
}

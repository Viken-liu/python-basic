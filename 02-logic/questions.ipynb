{
 "cells": [
  {
   "cell_type": "markdown",
   "metadata": {},
   "source": [
    "# 季节判断机器人\n",
    "* 在中国 1～3月为春季，4～6个月为夏季，7～9月为秋季，10～12月为冬季\n",
    "* 提示用户输入一个月份（数字），然后输出是什么季节\n",
    "* 如果用户输入 1～12 之外的数字，提示 \"机器故障\"\n",
    "\n",
    "  备注：因为是学习的第二天，所以暂时让用户输入，以后可以直接读系统中的日期"
   ]
  },
  {
   "cell_type": "markdown",
   "metadata": {},
   "source": [
    "# 价格预警机器人\n",
    "* 假设你要监控  A,B,C 三个商品\n",
    "* 如是果 A/B/C 分别降价 30/20/10 元上，就要报警\n",
    "* 提示用户输入商品名（A/B/C)\n",
    "* 提示用户输入降价值 (数字）\n",
    "* 如果需要报警则打印商品名 + 降价值\n"
   ]
  },
  {
   "cell_type": "markdown",
   "metadata": {},
   "source": [
    "# 考试评语机器人\n",
    "* 假设你现在是考试院的老师，在看试卷，要打评语\n",
    "* 提示用户输出考试分数（数字）\n",
    "* 如果输入值小于 60 分，则打印 \"要加油呀!\"\n",
    "* 如果输入值大于等于 60 分，且小于 80分，则打印 \"不错呀，认真学习了！\"\n",
    "* 如果输入值大于等于 80 分，则打印 \"考得不错，不要骄傲！\"\n",
    "\n",
    "  备注：因为是学习的第二天，所以暂时让用户输入，以后可以直接读取成绩表，直接出评语"
   ]
  },
  {
   "cell_type": "markdown",
   "metadata": {},
   "source": [
    "# 智能空调机器人\n",
    "* 假设你现在设计一台智能空调\n",
    "* 提示用户输入季节（只能是 winter/summer)\n",
    "* 提示用户输入当前温度 (数字）\n",
    "* 如果季节是 winter， 且温度低于10度，则打印 \"太冷了，开热空调了\"\n",
    "* 如果季节是 summer， 且温度高于27度，则打印 \"太热了，开冷空调了\"\n",
    "\n",
    "  备注：因为是学习的第二天，所以暂时让用户输入，以后可以接外部温度电子器直接读"
   ]
  }
 ],
 "metadata": {
  "kernelspec": {
   "display_name": "Python 3",
   "language": "python",
   "name": "python3"
  },
  "language_info": {
   "codemirror_mode": {
    "name": "ipython",
    "version": 3
   },
   "file_extension": ".py",
   "mimetype": "text/x-python",
   "name": "python",
   "nbconvert_exporter": "python",
   "pygments_lexer": "ipython3",
   "version": "3.7.6"
  },
  "toc": {
   "base_numbering": 1,
   "nav_menu": {},
   "number_sections": true,
   "sideBar": true,
   "skip_h1_title": false,
   "title_cell": "Table of Contents",
   "title_sidebar": "Contents",
   "toc_cell": false,
   "toc_position": {},
   "toc_section_display": true,
   "toc_window_display": false
  },
  "varInspector": {
   "cols": {
    "lenName": 16,
    "lenType": 16,
    "lenVar": 40
   },
   "kernels_config": {
    "python": {
     "delete_cmd_postfix": "",
     "delete_cmd_prefix": "del ",
     "library": "var_list.py",
     "varRefreshCmd": "print(var_dic_list())"
    },
    "r": {
     "delete_cmd_postfix": ") ",
     "delete_cmd_prefix": "rm(",
     "library": "var_list.r",
     "varRefreshCmd": "cat(var_dic_list()) "
    }
   },
   "types_to_exclude": [
    "module",
    "function",
    "builtin_function_or_method",
    "instance",
    "_Feature"
   ],
   "window_display": false
  }
 },
 "nbformat": 4,
 "nbformat_minor": 4
}

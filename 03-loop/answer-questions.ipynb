{
 "cells": [
  {
   "cell_type": "markdown",
   "metadata": {
    "ExecuteTime": {
     "end_time": "2020-07-14T02:02:24.191336Z",
     "start_time": "2020-07-14T02:02:24.188124Z"
    }
   },
   "source": [
    "# 智能日历第一步，打印12个月\n",
    "* 你是智能日历的程序员\n",
    "* 请打印出 1～12月，每月一行"
   ]
  },
  {
   "cell_type": "code",
   "execution_count": 8,
   "metadata": {
    "ExecuteTime": {
     "end_time": "2020-07-14T02:03:21.498180Z",
     "start_time": "2020-07-14T02:03:21.495062Z"
    }
   },
   "outputs": [
    {
     "name": "stdout",
     "output_type": "stream",
     "text": [
      "1月\n",
      "2月\n",
      "3月\n",
      "4月\n",
      "5月\n",
      "6月\n",
      "7月\n",
      "8月\n",
      "9月\n",
      "10月\n",
      "11月\n",
      "12月\n"
     ]
    }
   ],
   "source": [
    "# 解法1\n",
    "for i in range(1,13):\n",
    "    print(\"%d月\" % i)"
   ]
  },
  {
   "cell_type": "code",
   "execution_count": 9,
   "metadata": {
    "ExecuteTime": {
     "end_time": "2020-07-14T02:03:45.652068Z",
     "start_time": "2020-07-14T02:03:45.648374Z"
    }
   },
   "outputs": [
    {
     "name": "stdout",
     "output_type": "stream",
     "text": [
      "1月\n",
      "2月\n",
      "3月\n",
      "4月\n",
      "5月\n",
      "6月\n",
      "7月\n",
      "8月\n",
      "9月\n",
      "10月\n",
      "11月\n",
      "12月\n"
     ]
    }
   ],
   "source": [
    "# 解法2\n",
    "for i in range(1,13):\n",
    "    print(str(i) + \"月\")"
   ]
  },
  {
   "cell_type": "markdown",
   "metadata": {
    "ExecuteTime": {
     "end_time": "2020-07-14T01:56:51.654168Z",
     "start_time": "2020-07-14T01:56:51.651909Z"
    }
   },
   "source": [
    "# for 循环计算 1 * 2 * 3 *..10"
   ]
  },
  {
   "cell_type": "code",
   "execution_count": 10,
   "metadata": {
    "ExecuteTime": {
     "end_time": "2020-07-14T02:04:58.939782Z",
     "start_time": "2020-07-14T02:04:58.936529Z"
    }
   },
   "outputs": [
    {
     "name": "stdout",
     "output_type": "stream",
     "text": [
      "3628800\n"
     ]
    }
   ],
   "source": [
    "total = 1\n",
    "for i in range(1,11):\n",
    "    total = total * i\n",
    "print(total)"
   ]
  },
  {
   "cell_type": "markdown",
   "metadata": {
    "ExecuteTime": {
     "end_time": "2020-07-14T01:57:33.064096Z",
     "start_time": "2020-07-14T01:57:33.061852Z"
    }
   },
   "source": [
    "# for 循环打印 \"Good Day!\" 里的每个字符"
   ]
  },
  {
   "cell_type": "code",
   "execution_count": 11,
   "metadata": {
    "ExecuteTime": {
     "end_time": "2020-07-14T02:05:46.643010Z",
     "start_time": "2020-07-14T02:05:46.629372Z"
    }
   },
   "outputs": [
    {
     "name": "stdout",
     "output_type": "stream",
     "text": [
      "G\n",
      "o\n",
      "o\n",
      "d\n",
      " \n",
      "D\n",
      "a\n",
      "y\n",
      "!\n"
     ]
    }
   ],
   "source": [
    "title = \"Good Day!\"\n",
    "for char in title:\n",
    "    print(char)"
   ]
  },
  {
   "cell_type": "markdown",
   "metadata": {
    "ExecuteTime": {
     "end_time": "2020-07-14T01:58:27.543099Z",
     "start_time": "2020-07-14T01:58:27.540843Z"
    }
   },
   "source": [
    "# for 循环打印出所有 1~50 之间的所有偶数"
   ]
  },
  {
   "cell_type": "code",
   "execution_count": 12,
   "metadata": {
    "ExecuteTime": {
     "end_time": "2020-07-14T02:06:20.403775Z",
     "start_time": "2020-07-14T02:06:20.400623Z"
    }
   },
   "outputs": [
    {
     "name": "stdout",
     "output_type": "stream",
     "text": [
      "2\n",
      "4\n",
      "6\n",
      "8\n",
      "10\n",
      "12\n",
      "14\n",
      "16\n",
      "18\n",
      "20\n",
      "22\n",
      "24\n",
      "26\n",
      "28\n",
      "30\n",
      "32\n",
      "34\n",
      "36\n",
      "38\n",
      "40\n",
      "42\n",
      "44\n",
      "46\n",
      "48\n",
      "50\n"
     ]
    }
   ],
   "source": [
    "for i in range(1,51):\n",
    "    if i%2 == 0:\n",
    "        print(i)"
   ]
  },
  {
   "cell_type": "code",
   "execution_count": 1,
   "metadata": {
    "ExecuteTime": {
     "end_time": "2020-07-14T03:52:38.823786Z",
     "start_time": "2020-07-14T03:52:38.819976Z"
    }
   },
   "outputs": [
    {
     "name": "stdout",
     "output_type": "stream",
     "text": [
      "2\n",
      "4\n",
      "6\n",
      "8\n",
      "10\n",
      "12\n",
      "14\n",
      "16\n",
      "18\n",
      "20\n",
      "22\n",
      "24\n",
      "26\n",
      "28\n",
      "30\n",
      "32\n",
      "34\n",
      "36\n",
      "38\n",
      "40\n",
      "42\n",
      "44\n",
      "46\n",
      "48\n",
      "50\n"
     ]
    }
   ],
   "source": [
    "for i in range(1,51)[1::2]:\n",
    "    print(i)"
   ]
  },
  {
   "cell_type": "markdown",
   "metadata": {},
   "source": [
    "# PM找差评\n",
    "* 程序员把产器星级放入一个列表 [3,5,4,2,1,5,5]\n",
    "* 请把所有小于4的评分打印出来（用 continue)"
   ]
  },
  {
   "cell_type": "code",
   "execution_count": 13,
   "metadata": {
    "ExecuteTime": {
     "end_time": "2020-07-14T02:07:12.968023Z",
     "start_time": "2020-07-14T02:07:12.962565Z"
    }
   },
   "outputs": [
    {
     "name": "stdout",
     "output_type": "stream",
     "text": [
      "3\n",
      "2\n",
      "1\n"
     ]
    }
   ],
   "source": [
    "stars =  [3,5,4,2,1,5,5]\n",
    "for star in stars:\n",
    "    if star >= 4:\n",
    "        continue\n",
    "    print(star)"
   ]
  },
  {
   "cell_type": "code",
   "execution_count": 5,
   "metadata": {
    "ExecuteTime": {
     "end_time": "2020-07-14T03:59:44.695718Z",
     "start_time": "2020-07-14T03:59:44.692566Z"
    }
   },
   "outputs": [
    {
     "name": "stdout",
     "output_type": "stream",
     "text": [
      "3\n",
      "2\n",
      "1\n"
     ]
    }
   ],
   "source": [
    "# 不用continue\n",
    "for star in stars:\n",
    "    if star < 4:\n",
    "        print(star)"
   ]
  },
  {
   "cell_type": "code",
   "execution_count": 6,
   "metadata": {
    "ExecuteTime": {
     "end_time": "2020-07-14T03:59:50.233584Z",
     "start_time": "2020-07-14T03:59:50.228320Z"
    }
   },
   "outputs": [
    {
     "name": "stdout",
     "output_type": "stream",
     "text": [
      "3\n",
      "2\n",
      "1\n"
     ]
    }
   ],
   "source": [
    "# 使用lamda表达式\n",
    "for star in list(filter(lambda x: x<4 , stars)):\n",
    "    print(star)"
   ]
  },
  {
   "cell_type": "code",
   "execution_count": 7,
   "metadata": {
    "ExecuteTime": {
     "end_time": "2020-07-14T04:00:47.120834Z",
     "start_time": "2020-07-14T04:00:47.114668Z"
    }
   },
   "outputs": [
    {
     "name": "stdout",
     "output_type": "stream",
     "text": [
      "3\n",
      "2\n",
      "1\n"
     ]
    }
   ],
   "source": [
    "# 使用iterable\n",
    "for star in [star for star in stars if star<4]:\n",
    "    print(star)"
   ]
  },
  {
   "cell_type": "markdown",
   "metadata": {},
   "source": [
    "# 自动邮件机器人\n",
    "* 假设计你是要给自动给客户发邮件的运营人员\n",
    "* 提示运营人员输入姓名 \n",
    "* 提示运营人输入购买的商品 \n",
    "* 输出邮件格式如下：\n",
    "\n",
    "Dear [用户姓名]:\n",
    "    \n",
    "    Your purchased product : [产品名] is delivered!\n",
    "    \n",
    "    Thanks for your choosing!\n",
    "*  使用 while 来循环提示用户输入，直到用户在姓名中输入 ! 才退出(用break)"
   ]
  },
  {
   "cell_type": "code",
   "execution_count": null,
   "metadata": {
    "ExecuteTime": {
     "start_time": "2020-07-14T02:17:26.449Z"
    }
   },
   "outputs": [
    {
     "name": "stdout",
     "output_type": "stream",
     "text": [
      "请输入客户姓名:ABC\n",
      "请输入商品名:DDD\n",
      "\n",
      "Dear ABC:\n",
      "\n",
      "Your purchased product : DDD is delivered!\n",
      "\n",
      "Thanks for your choosing!\n",
      "\n",
      "------------------------------\n"
     ]
    }
   ],
   "source": [
    "email_template = \"\"\"\n",
    "Dear %s:\n",
    "\n",
    "Your purchased product : %s is delivered!\n",
    "\n",
    "Thanks for your choosing!\n",
    "\"\"\"\n",
    "while True:\n",
    "    name = input(\"请输入客户姓名:\")\n",
    "    if name == \"!\":\n",
    "        break\n",
    "    product = input(\"请输入商品名:\")\n",
    "\n",
    "    email_body = email_template % (name,product)\n",
    "    print(email_body)\n",
    "    print(\"----------Mail Delivered!--------------------\")"
   ]
  }
 ],
 "metadata": {
  "kernelspec": {
   "display_name": "Python 3",
   "language": "python",
   "name": "python3"
  },
  "language_info": {
   "codemirror_mode": {
    "name": "ipython",
    "version": 3
   },
   "file_extension": ".py",
   "mimetype": "text/x-python",
   "name": "python",
   "nbconvert_exporter": "python",
   "pygments_lexer": "ipython3",
   "version": "3.7.6"
  },
  "toc": {
   "base_numbering": 1,
   "nav_menu": {},
   "number_sections": true,
   "sideBar": true,
   "skip_h1_title": false,
   "title_cell": "Table of Contents",
   "title_sidebar": "Contents",
   "toc_cell": false,
   "toc_position": {},
   "toc_section_display": true,
   "toc_window_display": false
  },
  "varInspector": {
   "cols": {
    "lenName": 16,
    "lenType": 16,
    "lenVar": 40
   },
   "kernels_config": {
    "python": {
     "delete_cmd_postfix": "",
     "delete_cmd_prefix": "del ",
     "library": "var_list.py",
     "varRefreshCmd": "print(var_dic_list())"
    },
    "r": {
     "delete_cmd_postfix": ") ",
     "delete_cmd_prefix": "rm(",
     "library": "var_list.r",
     "varRefreshCmd": "cat(var_dic_list()) "
    }
   },
   "types_to_exclude": [
    "module",
    "function",
    "builtin_function_or_method",
    "instance",
    "_Feature"
   ],
   "window_display": false
  }
 },
 "nbformat": 4,
 "nbformat_minor": 4
}

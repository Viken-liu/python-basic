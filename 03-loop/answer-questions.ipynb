{
 "cells": [
  {
   "cell_type": "markdown",
   "metadata": {},
   "source": [
    "# 1. 基础知识重复提醒\n",
    "\n",
    "有同学会问，不是上一章讲过这些吗？为什么要要重复提醒呢？\n",
    "\n",
    "是的，知识学习理解的过程是一个反复的过程，我们小时候第一次学习汉字时，基础字练了20次以上。\n",
    "\n",
    "对于 Python 这么一门语言的练习，基础知识的理解我建议要重复3次以上。\n",
    "\n",
    "老师把重要的基础知识重复出现3次，大家要把作业练习3次以上，老师推荐的各种链接多看一下。\n",
    "\n",
    "学习新知识时快就是慢，慢就是快！\n",
    "\n",
    "\n",
    "## 写代码报错了怎么办\n",
    "\n",
    "学习了怎么看错误信息，学会了怎么 Google/Baidu查找出错信息，就掌握了最重要的一门程序技能；\n",
    "\n",
    "有人说学会这两项，就等于半个初级程序员了；学习 Python不是为学习一个固定的知识，而是为了学习解决问题的方法。\n",
    "\n",
    "* [必看: Zane 老师整理了检查错误的方法](https://www.yinxiang.com/everhub/note/1e44d717-75c3-413d-83ad-5716126ccaa6)\n",
    "* [新人必看：17个新手常见Python运行时错误](https://www.oschina.net/question/89964_62779)\n",
    "\n",
    "\n",
    "## Python 各种基础知识\n",
    "\n",
    "* [Zane老师整理Python基础知识](https://www.yinxiang.com/everhub/note/414a0a33-7d28-4c27-af22-23f950b990fd)\n",
    "* [Python3基础教程](https://www.runoob.com/python3/python3-tutorial.html)\n",
    "* [Python 运算符](https://www.runoob.com/python/python-operators.html)\n",
    "* [Python3 条件控制](https://www.runoob.com/python3/python3-conditional-statements.html)\n",
    "\n",
    "## 新知识循环遍历提醒\n",
    "\n",
    "\n",
    "\n",
    "如果想让重复工作自动化，必须要学好循环;\n",
    "\n",
    "你可以想像重复的工作，就像一个“列表”,   用循环处理1个任务和处理10000个任务本质上是一样的：\n",
    "\n",
    "## 什么是 Markdown(选学)\n",
    "\n",
    "学习了解 Markdown 可以让大家的代码也有漂亮的文字配合！\n",
    "\n",
    "* [Markdown 是什么](https://www.zhihu.com/question/19963642)"
   ]
  },
  {
   "cell_type": "markdown",
   "metadata": {
    "ExecuteTime": {
     "end_time": "2020-07-14T02:02:24.191336Z",
     "start_time": "2020-07-14T02:02:24.188124Z"
    }
   },
   "source": [
    "# 智能日历第一步，打印12个月\n",
    "* 你是智能日历的程序员\n",
    "* 请打印出 1～12月，每月一行"
   ]
  },
  {
   "cell_type": "code",
   "execution_count": 8,
   "metadata": {
    "ExecuteTime": {
     "end_time": "2020-07-14T02:03:21.498180Z",
     "start_time": "2020-07-14T02:03:21.495062Z"
    }
   },
   "outputs": [
    {
     "name": "stdout",
     "output_type": "stream",
     "text": [
      "1月\n",
      "2月\n",
      "3月\n",
      "4月\n",
      "5月\n",
      "6月\n",
      "7月\n",
      "8月\n",
      "9月\n",
      "10月\n",
      "11月\n",
      "12月\n"
     ]
    }
   ],
   "source": [
    "# 解法1\n",
    "for i in range(1,13):\n",
    "    print(\"%d月\" % i)"
   ]
  },
  {
   "cell_type": "code",
   "execution_count": 9,
   "metadata": {
    "ExecuteTime": {
     "end_time": "2020-07-14T02:03:45.652068Z",
     "start_time": "2020-07-14T02:03:45.648374Z"
    }
   },
   "outputs": [
    {
     "name": "stdout",
     "output_type": "stream",
     "text": [
      "1月\n",
      "2月\n",
      "3月\n",
      "4月\n",
      "5月\n",
      "6月\n",
      "7月\n",
      "8月\n",
      "9月\n",
      "10月\n",
      "11月\n",
      "12月\n"
     ]
    }
   ],
   "source": [
    "# 解法2\n",
    "for i in range(1,13):\n",
    "    print(str(i) + \"月\")"
   ]
  },
  {
   "cell_type": "markdown",
   "metadata": {
    "ExecuteTime": {
     "end_time": "2020-07-14T01:56:51.654168Z",
     "start_time": "2020-07-14T01:56:51.651909Z"
    }
   },
   "source": [
    "# for 循环计算1到10的连乘\n",
    "\n",
    "* 在 Python 中，乘法符号是 *\n",
    "* 1 * 2 * 3 *..10"
   ]
  },
  {
   "cell_type": "code",
   "execution_count": 10,
   "metadata": {
    "ExecuteTime": {
     "end_time": "2020-07-14T02:04:58.939782Z",
     "start_time": "2020-07-14T02:04:58.936529Z"
    }
   },
   "outputs": [
    {
     "name": "stdout",
     "output_type": "stream",
     "text": [
      "3628800\n"
     ]
    }
   ],
   "source": [
    "total = 1\n",
    "for i in range(1,11):\n",
    "    total = total * i\n",
    "print(total)"
   ]
  },
  {
   "cell_type": "markdown",
   "metadata": {
    "ExecuteTime": {
     "end_time": "2020-07-14T01:57:33.064096Z",
     "start_time": "2020-07-14T01:57:33.061852Z"
    }
   },
   "source": [
    "# for 循环打印 \"Good Day!\" 里的每个字符"
   ]
  },
  {
   "cell_type": "code",
   "execution_count": 11,
   "metadata": {
    "ExecuteTime": {
     "end_time": "2020-07-14T02:05:46.643010Z",
     "start_time": "2020-07-14T02:05:46.629372Z"
    }
   },
   "outputs": [
    {
     "name": "stdout",
     "output_type": "stream",
     "text": [
      "G\n",
      "o\n",
      "o\n",
      "d\n",
      " \n",
      "D\n",
      "a\n",
      "y\n",
      "!\n"
     ]
    }
   ],
   "source": [
    "title = \"Good Day!\"\n",
    "for char in title:\n",
    "    print(char)"
   ]
  },
  {
   "cell_type": "markdown",
   "metadata": {
    "ExecuteTime": {
     "end_time": "2020-07-14T01:58:27.543099Z",
     "start_time": "2020-07-14T01:58:27.540843Z"
    }
   },
   "source": [
    "# for 循环打印出所有 1~50 之间的所有偶数"
   ]
  },
  {
   "cell_type": "code",
   "execution_count": 12,
   "metadata": {
    "ExecuteTime": {
     "end_time": "2020-07-14T02:06:20.403775Z",
     "start_time": "2020-07-14T02:06:20.400623Z"
    }
   },
   "outputs": [
    {
     "name": "stdout",
     "output_type": "stream",
     "text": [
      "2\n",
      "4\n",
      "6\n",
      "8\n",
      "10\n",
      "12\n",
      "14\n",
      "16\n",
      "18\n",
      "20\n",
      "22\n",
      "24\n",
      "26\n",
      "28\n",
      "30\n",
      "32\n",
      "34\n",
      "36\n",
      "38\n",
      "40\n",
      "42\n",
      "44\n",
      "46\n",
      "48\n",
      "50\n"
     ]
    }
   ],
   "source": [
    "for i in range(0,51):\n",
    "    if i%2 == 0:\n",
    "        print(i)"
   ]
  },
  {
   "cell_type": "code",
   "execution_count": 1,
   "metadata": {
    "ExecuteTime": {
     "end_time": "2020-07-14T03:52:38.823786Z",
     "start_time": "2020-07-14T03:52:38.819976Z"
    }
   },
   "outputs": [
    {
     "name": "stdout",
     "output_type": "stream",
     "text": [
      "2\n",
      "4\n",
      "6\n",
      "8\n",
      "10\n",
      "12\n",
      "14\n",
      "16\n",
      "18\n",
      "20\n",
      "22\n",
      "24\n",
      "26\n",
      "28\n",
      "30\n",
      "32\n",
      "34\n",
      "36\n",
      "38\n",
      "40\n",
      "42\n",
      "44\n",
      "46\n",
      "48\n",
      "50\n"
     ]
    }
   ],
   "source": [
    "for i in range(0,51)[1::2]:\n",
    "    print(i)"
   ]
  },
  {
   "cell_type": "markdown",
   "metadata": {},
   "source": [
    "# PM自动找差评\n",
    "* 程序员把产器星级放入一个列表 [3,5,4,2,1,5,5]\n",
    "* 请把所有小于4的评分打印出来（用 continue)"
   ]
  },
  {
   "cell_type": "code",
   "execution_count": 13,
   "metadata": {
    "ExecuteTime": {
     "end_time": "2020-07-14T02:07:12.968023Z",
     "start_time": "2020-07-14T02:07:12.962565Z"
    }
   },
   "outputs": [
    {
     "name": "stdout",
     "output_type": "stream",
     "text": [
      "3\n",
      "2\n",
      "1\n"
     ]
    }
   ],
   "source": [
    "stars =  [3,5,4,2,1,5,5]\n",
    "for star in stars:\n",
    "    if star >= 4:\n",
    "        continue\n",
    "    print(star)"
   ]
  },
  {
   "cell_type": "code",
   "execution_count": 5,
   "metadata": {
    "ExecuteTime": {
     "end_time": "2020-07-14T03:59:44.695718Z",
     "start_time": "2020-07-14T03:59:44.692566Z"
    }
   },
   "outputs": [
    {
     "name": "stdout",
     "output_type": "stream",
     "text": [
      "3\n",
      "2\n",
      "1\n"
     ]
    }
   ],
   "source": [
    "# 不用continue\n",
    "for star in stars:\n",
    "    if star < 4:\n",
    "        print(star)"
   ]
  },
  {
   "cell_type": "code",
   "execution_count": 6,
   "metadata": {
    "ExecuteTime": {
     "end_time": "2020-07-14T03:59:50.233584Z",
     "start_time": "2020-07-14T03:59:50.228320Z"
    }
   },
   "outputs": [
    {
     "name": "stdout",
     "output_type": "stream",
     "text": [
      "3\n",
      "2\n",
      "1\n"
     ]
    }
   ],
   "source": [
    "# 使用lamda表达式\n",
    "for star in list(filter(lambda x: x<4 , stars)):\n",
    "    print(star)"
   ]
  },
  {
   "cell_type": "code",
   "execution_count": 7,
   "metadata": {
    "ExecuteTime": {
     "end_time": "2020-07-14T04:00:47.120834Z",
     "start_time": "2020-07-14T04:00:47.114668Z"
    }
   },
   "outputs": [
    {
     "name": "stdout",
     "output_type": "stream",
     "text": [
      "3\n",
      "2\n",
      "1\n"
     ]
    }
   ],
   "source": [
    "# 使用iterable\n",
    "for star in [star for star in stars if star<4]:\n",
    "    print(star)"
   ]
  },
  {
   "cell_type": "markdown",
   "metadata": {},
   "source": [
    "# 自动邮件机器人\n",
    "* 假设计你是要给自动给客户发邮件的运营人员\n",
    "* 提示运营人员输入姓名 \n",
    "* 提示运营人输入购买的商品 \n",
    "* 输出邮件格式如下：\n",
    "\n",
    "Dear [用户姓名]:\n",
    "    \n",
    "    Your purchased product : [产品名] is delivered!\n",
    "    \n",
    "    Thanks for your choosing!\n",
    "*  使用 while 来循环提示用户输入，直到用户在姓名中输入 ! 才退出(用break)"
   ]
  },
  {
   "cell_type": "code",
   "execution_count": null,
   "metadata": {
    "ExecuteTime": {
     "start_time": "2020-07-14T02:17:26.449Z"
    }
   },
   "outputs": [
    {
     "name": "stdout",
     "output_type": "stream",
     "text": [
      "请输入客户姓名:ABC\n",
      "请输入商品名:DDD\n",
      "\n",
      "Dear ABC:\n",
      "\n",
      "Your purchased product : DDD is delivered!\n",
      "\n",
      "Thanks for your choosing!\n",
      "\n",
      "------------------------------\n"
     ]
    }
   ],
   "source": [
    "email_template = \"\"\"\n",
    "Dear %s:\n",
    "\n",
    "Your purchased product : %s is delivered!\n",
    "\n",
    "Thanks for your choosing!\n",
    "\"\"\"\n",
    "while True:\n",
    "    name = input(\"请输入客户姓名:\")\n",
    "    if name == \"!\":\n",
    "        break\n",
    "    product = input(\"请输入商品名:\")\n",
    "\n",
    "    email_body = email_template % (name,product)\n",
    "    print(email_body)\n",
    "    print(\"----------Mail Delivered!--------------------\")"
   ]
  }
 ],
 "metadata": {
  "kernelspec": {
   "display_name": "Python 3",
   "language": "python",
   "name": "python3"
  },
  "language_info": {
   "codemirror_mode": {
    "name": "ipython",
    "version": 3
   },
   "file_extension": ".py",
   "mimetype": "text/x-python",
   "name": "python",
   "nbconvert_exporter": "python",
   "pygments_lexer": "ipython3",
   "version": "3.7.6"
  },
  "toc": {
   "base_numbering": 1,
   "nav_menu": {},
   "number_sections": true,
   "sideBar": true,
   "skip_h1_title": false,
   "title_cell": "Table of Contents",
   "title_sidebar": "Contents",
   "toc_cell": false,
   "toc_position": {},
   "toc_section_display": true,
   "toc_window_display": true
  },
  "varInspector": {
   "cols": {
    "lenName": 16,
    "lenType": 16,
    "lenVar": 40
   },
   "kernels_config": {
    "python": {
     "delete_cmd_postfix": "",
     "delete_cmd_prefix": "del ",
     "library": "var_list.py",
     "varRefreshCmd": "print(var_dic_list())"
    },
    "r": {
     "delete_cmd_postfix": ") ",
     "delete_cmd_prefix": "rm(",
     "library": "var_list.r",
     "varRefreshCmd": "cat(var_dic_list()) "
    }
   },
   "types_to_exclude": [
    "module",
    "function",
    "builtin_function_or_method",
    "instance",
    "_Feature"
   ],
   "window_display": false
  }
 },
 "nbformat": 4,
 "nbformat_minor": 4
}

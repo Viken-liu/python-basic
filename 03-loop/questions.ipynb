{
 "cells": [
  {
   "cell_type": "markdown",
   "metadata": {
    "ExecuteTime": {
     "end_time": "2020-07-14T02:02:24.191336Z",
     "start_time": "2020-07-14T02:02:24.188124Z"
    }
   },
   "source": [
    "# 智能日历第一步，打印12个月\n",
    "* 你是智能日历的程序员\n",
    "* 请打印出 1～12月，每月一行"
   ]
  },
  {
   "cell_type": "markdown",
   "metadata": {
    "ExecuteTime": {
     "end_time": "2020-07-14T01:56:51.654168Z",
     "start_time": "2020-07-14T01:56:51.651909Z"
    }
   },
   "source": [
    "# for 循环计算 1 * 2 * 3 *..10"
   ]
  },
  {
   "cell_type": "markdown",
   "metadata": {
    "ExecuteTime": {
     "end_time": "2020-07-14T01:57:33.064096Z",
     "start_time": "2020-07-14T01:57:33.061852Z"
    }
   },
   "source": [
    "# for 循环打印 \"Good Day!\" 里的每个字符"
   ]
  },
  {
   "cell_type": "markdown",
   "metadata": {
    "ExecuteTime": {
     "end_time": "2020-07-14T01:58:27.543099Z",
     "start_time": "2020-07-14T01:58:27.540843Z"
    }
   },
   "source": [
    "# for 循环打印出所有 1~50 之间的所有偶数"
   ]
  },
  {
   "cell_type": "markdown",
   "metadata": {},
   "source": [
    "# PM找差评\n",
    "* 程序员把产器星级放入一个列表 [3,5,4,2,1,5,5]\n",
    "* 请把所有小于4的评分打印出来（用 continue)"
   ]
  },
  {
   "cell_type": "markdown",
   "metadata": {},
   "source": [
    "# 自动邮件机器人\n",
    "* 假设计你是要给自动给客户发邮件的运营人员\n",
    "* 提示运营人员输入姓名 \n",
    "* 提示运营人输入购买的商品 \n",
    "* 输出邮件格式如下：\n",
    "\n",
    "Dear [用户姓名]:\n",
    "    \n",
    "    Your purchased product : [产品名] is delivered!\n",
    "    \n",
    "    Thanks for your choosing!\n",
    "*  使用 while 来循环提示用户输入，直到用户在姓名中输入 ! 才退出(用break)"
   ]
  },
  {
   "cell_type": "code",
   "execution_count": null,
   "metadata": {},
   "outputs": [],
   "source": []
  }
 ],
 "metadata": {
  "kernelspec": {
   "display_name": "Python 3",
   "language": "python",
   "name": "python3"
  },
  "language_info": {
   "codemirror_mode": {
    "name": "ipython",
    "version": 3
   },
   "file_extension": ".py",
   "mimetype": "text/x-python",
   "name": "python",
   "nbconvert_exporter": "python",
   "pygments_lexer": "ipython3",
   "version": "3.7.6"
  },
  "toc": {
   "base_numbering": 1,
   "nav_menu": {},
   "number_sections": true,
   "sideBar": true,
   "skip_h1_title": false,
   "title_cell": "Table of Contents",
   "title_sidebar": "Contents",
   "toc_cell": false,
   "toc_position": {},
   "toc_section_display": true,
   "toc_window_display": false
  },
  "varInspector": {
   "cols": {
    "lenName": 16,
    "lenType": 16,
    "lenVar": 40
   },
   "kernels_config": {
    "python": {
     "delete_cmd_postfix": "",
     "delete_cmd_prefix": "del ",
     "library": "var_list.py",
     "varRefreshCmd": "print(var_dic_list())"
    },
    "r": {
     "delete_cmd_postfix": ") ",
     "delete_cmd_prefix": "rm(",
     "library": "var_list.r",
     "varRefreshCmd": "cat(var_dic_list()) "
    }
   },
   "types_to_exclude": [
    "module",
    "function",
    "builtin_function_or_method",
    "instance",
    "_Feature"
   ],
   "window_display": false
  }
 },
 "nbformat": 4,
 "nbformat_minor": 4
}

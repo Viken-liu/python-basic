{
 "cells": [
  {
   "cell_type": "markdown",
   "metadata": {},
   "source": [
    "# 智能排序机器人\n",
    "* 现有一些产品的销售额\n",
    "```\n",
    "  sales = [100,200,50,300,20,500,1000,10]\n",
    "```\n",
    "* 请对 sales 进行升序排序，并且打印出来\n",
    "* 请对 sales 进行降序排序，并且打印出来\n",
    "* 请用排序+切片的方式，找出 Top3 的销售额\n",
    "* 请用排序+切片的方式，找出 最低的3个销售额"
   ]
  },
  {
   "cell_type": "code",
   "execution_count": 1,
   "metadata": {
    "ExecuteTime": {
     "end_time": "2020-07-16T10:18:33.737309Z",
     "start_time": "2020-07-16T10:18:33.730414Z"
    }
   },
   "outputs": [
    {
     "name": "stdout",
     "output_type": "stream",
     "text": [
      "进行升序排序\n",
      "[10, 20, 50, 100, 200, 300, 500, 1000]\n",
      "----------------------------------------------------------------------\n",
      "进行降序排序\n",
      "[1000, 500, 300, 200, 100, 50, 20, 10]\n",
      "----------------------------------------------------------------------\n",
      "查看最后3个数据(top3)\n",
      "[300, 500, 1000]\n",
      "----------------------------------------------------------------------\n",
      "查看最前3个数据( 最低的3个销售额)\n",
      "[10, 20, 50]\n"
     ]
    }
   ],
   "source": [
    "sales =  [100,200,50,300,20,500,1000,10]\n",
    "print(\"进行升序排序\")\n",
    "sales.sort() #\n",
    "print(sales)\n",
    "print(\"-\"*70)\n",
    "\n",
    "print(\"进行降序排序\")\n",
    "sales.sort(reverse= True) #进行降序排序\n",
    "print(sales)\n",
    "print(\"-\"*70)\n",
    "\n",
    "sales.sort() #进行升序排序\n",
    "print(\"查看最后3个数据(top3)\")\n",
    "print(sales[-3:]) \n",
    "print(\"-\"*70)\n",
    "\n",
    "print(\"查看最前3个数据( 最低的3个销售额)\")\n",
    "print(sales[:3]) \n"
   ]
  },
  {
   "cell_type": "markdown",
   "metadata": {},
   "source": [
    "# 车位管理机器人\n",
    "* 你现有管理一个停车场\n",
    "* 现有一组车位租用情况，结构如下：\n",
    "```\n",
    "    car_nums = ['A0001','A00X9','A0027']   \n",
    "```\n",
    "* 现有新来了一辆车 'A0030', 请把它放在 car_nums 的最后面\n",
    "* 现有新来了一辆车 'A0000', 请把它放在 car_nums 的最前面\n",
    "* 'A00X9' 这辆车现在不租你的停车位上，请把它从 car_nums 中删掉\n",
    "* 现在来了一个车队 ['B0001','B0002','B003'], 请用一行代码把它加到 car_nums 中"
   ]
  },
  {
   "cell_type": "code",
   "execution_count": 44,
   "metadata": {
    "ExecuteTime": {
     "end_time": "2020-07-14T06:24:57.511394Z",
     "start_time": "2020-07-14T06:24:57.505613Z"
    }
   },
   "outputs": [
    {
     "name": "stdout",
     "output_type": "stream",
     "text": [
      "现有新来了一辆车 'A0030', 请把它放在 car_nums 的最后面\n",
      "['A0001', 'A00X9', 'A0027', 'A0030']\n",
      "----------------------------------------------------------------------\n",
      "现有新来了一辆车 'A0000', 请把它放在 car_nums 的最前面\n",
      "['A0000', 'A0001', 'A00X9', 'A0027', 'A0030']\n",
      "----------------------------------------------------------------------\n",
      "'A00X9' 这辆车现在不租你的停车位上，请把它从 car_nums 中删掉\n",
      "['A0000', 'A0001', 'A0027', 'A0030']\n",
      "----------------------------------------------------------------------\n",
      "现在来了一个车队 ['B0001','B0002','B003'], 请用一行代码把它加到 car_nums 中\n",
      "['A0000', 'A0001', 'A0027', 'A0030', 'B0001', 'B0002', 'B003']\n"
     ]
    }
   ],
   "source": [
    "car_nums = ['A0001','A00X9','A0027']\n",
    "print(\"现有新来了一辆车 'A0030', 请把它放在 car_nums 的最后面\")\n",
    "car_nums.append('A0030')\n",
    "print(car_nums)\n",
    "print(\"-\"*70)\n",
    "\n",
    "print(\"现有新来了一辆车 'A0000', 请把它放在 car_nums 的最前面\")\n",
    "car_nums.insert(0,'A0000')\n",
    "print(car_nums)\n",
    "print(\"-\"*70)\n",
    "\n",
    "print(\"'A00X9' 这辆车现在不租你的停车位上，请把它从 car_nums 中删掉\")\n",
    "del_index = car_nums.index('A00X9')\n",
    "del car_nums[del_index]\n",
    "print(car_nums)\n",
    "print(\"-\"*70)\n",
    "\n",
    "print(\"现在来了一个车队 ['B0001','B0002','B003'], 请用一行代码把它加到 car_nums 中\")\n",
    "car_nums.extend(['B0001','B0002','B003'])\n",
    "print(car_nums)"
   ]
  },
  {
   "cell_type": "markdown",
   "metadata": {},
   "source": [
    "# 自动询价机器人\n",
    "* 你现在管理一个商务团队，每天有客户找问价格\n",
    "* 你有一个价格对应表\n",
    "```\n",
    "  prices =  {\n",
    "      \"SKU-A\": 100,\n",
    "      \"SKU-B\": 120,\n",
    "      \"SKU-C\": 190,\n",
    "      \"SKU-D\": 200\n",
    "  }\n",
    "```  \n",
    "* 每次客户来问题，你都要找这个表，你现在很烦，想做一个自动机器人\n",
    "* 写一个 while 循环，提示用户输入 sku\n",
    "* 根据用户输入的sku查询 prices, 找印出对应价格\n",
    "* 如果用户输入 ! 则退出循环(break)"
   ]
  },
  {
   "cell_type": "code",
   "execution_count": 29,
   "metadata": {
    "ExecuteTime": {
     "end_time": "2020-07-14T05:51:59.462459Z",
     "start_time": "2020-07-14T05:51:57.412321Z"
    }
   },
   "outputs": [
    {
     "name": "stdout",
     "output_type": "stream",
     "text": [
      "请输入SKU:!\n"
     ]
    }
   ],
   "source": [
    "prices =  {\n",
    "            \"SKU-A\": 100,\n",
    "            \"SKU-B\": 120,\n",
    "            \"SKU-C\": 190,\n",
    "            \"SKU-D\": 200\n",
    "}\n",
    "\n",
    "while True:\n",
    "    sku = input(\"请输入SKU:\")\n",
    "    if sku == \"!\":\n",
    "        break\n",
    "    print(\"sku: %s, price: %s\" % (sku,prices.get(sku)) )"
   ]
  },
  {
   "cell_type": "markdown",
   "metadata": {},
   "source": [
    "# 仓库数据管理机器人\n",
    "\n",
    "\n",
    "---\n",
    "* 你现在是仓库的负责人\n",
    "* 仓库数格式是这样的\n",
    "```\n",
    "    total = [\n",
    "        {\"sku\": \"SKU-A\", \"quantity\": 100},\n",
    "        {\"sku\": \"SKU-B\", \"quantity\": 200},\n",
    "        {\"sku\": \"SKU-C\", \"quantity\": 400},\n",
    "        {\"sku\": \"SKU-D\", \"quantity\": 300},\n",
    "    ]\n",
    "```   \n",
    "* 请统计仓库的物品总数量(quantity)\n",
    "* 现在 SKU-A 要入库 100件商品，请更新 SKU-A 的库存记录\n",
    "* 现在 SKU-E 新品上市，要入库300件商品，请在 total 中新增一条相应记录\n",
    "* 现在 SKU-B 要退市，请将 SKU-B 这行记录删掉  #此题可选\n",
    "* 使用切片方法显示 total 中的最后一行记录\n",
    "\n",
    "---\n",
    "\n",
    "解题提示：这是一道复合题 \n",
    "* total 的最外层是 [], 表示它是一个list\n",
    "\n",
    "  可以用 print(type(total)) 来看它是什么类型\n",
    "  \n",
    "  \n",
    "* total 的里层是 {}, 表示里面放的是 dict; \n",
    "\n",
    "  那么total 是一个里面成员都是 dict的 list,\n",
    "  \n",
    "  total[0] 表示是 total 的第一个元素，print(type(total[0]))\n",
    "\n",
    "\n",
    "* 可以使用 len(total) 得到列表的长度\n",
    "\n",
    "  使用 range(len(total)) 就可以生一个 total 列表下标的列表\n",
    "  \n",
    "  如果上面那句话很绕， 你就认为: range(len(total)) == [0,1,2,3] 就好了\n",
    "  \n",
    "如果大家以后把道题解好了，就达到初级程序水平了"
   ]
  },
  {
   "cell_type": "code",
   "execution_count": 47,
   "metadata": {
    "ExecuteTime": {
     "end_time": "2020-07-14T06:31:32.424430Z",
     "start_time": "2020-07-14T06:31:32.414878Z"
    }
   },
   "outputs": [
    {
     "name": "stdout",
     "output_type": "stream",
     "text": [
      "请统计仓库的物品总数量(quantity)\n",
      "仓库的物品总数量: 1000\n",
      "----------------------------------------------------------------------\n",
      "现在 SKU-A 要入库 100件商品，请更新 SKU-A 的库存记录\n",
      "更新后数据： [{'sku': 'SKU-A', 'quantity': 200}, {'sku': 'SKU-B', 'quantity': 200}, {'sku': 'SKU-C', 'quantity': 400}, {'sku': 'SKU-D', 'quantity': 300}]\n",
      "----------------------------------------------------------------------\n",
      "现在 SKU-E 新品上市，要入库300件商品，请在 total 中新增一条相应记录\n",
      "更新后数据： [{'sku': 'SKU-A', 'quantity': 200}, {'sku': 'SKU-B', 'quantity': 200}, {'sku': 'SKU-C', 'quantity': 400}, {'sku': 'SKU-D', 'quantity': 300}, {'sku': 'SKU-E', 'quituantity': 3000}]\n",
      "----------------------------------------------------------------------\n",
      "现在 SKU-B 要退市，请将 SKU-B 这行记录删掉\n",
      "更新后数据： [{'sku': 'SKU-A', 'quantity': 200}, {'sku': 'SKU-C', 'quantity': 400}, {'sku': 'SKU-D', 'quantity': 300}, {'sku': 'SKU-E', 'quituantity': 3000}]\n",
      "----------------------------------------------------------------------\n",
      "使用切片方法显示 total 中的最后一行记录\n",
      "最后一行数据： {'sku': 'SKU-E', 'quituantity': 3000}\n"
     ]
    }
   ],
   "source": [
    "total = [\n",
    "    {\"sku\": \"SKU-A\", \"quantity\": 100},\n",
    "    {\"sku\": \"SKU-B\", \"quantity\": 200},\n",
    "    {\"sku\": \"SKU-C\", \"quantity\": 400},\n",
    "    {\"sku\": \"SKU-D\", \"quantity\": 300},\n",
    "]\n",
    "\n",
    "print(\"请统计仓库的物品总数量(quantity)\")\n",
    "total_quantity = 0\n",
    "for item in total:\n",
    "    total_quantity += item[\"quantity\"]\n",
    "print(\"仓库的物品总数量:\",total_quantity)\n",
    "print(\"-\"*70)\n",
    "\n",
    "\n",
    "print(\"现在 SKU-A 要入库 100件商品，请更新 SKU-A 的库存记录\")\n",
    "for item in total:\n",
    "    # 找到SKU-A，更新它的记录\n",
    "    if item['sku'] == \"SKU-A\":\n",
    "        item['quantity'] += 100\n",
    "print(\"更新后数据：\",total)\n",
    "print(\"-\"*70)\n",
    "\n",
    "print(\"现在 SKU-E 新品上市，要入库300件商品，请在 total 中新增一条相应记录\")\n",
    "sku_e = {\"sku\":\"SKU-E\", \"quituantity\":3000}\n",
    "total.append(sku_e)\n",
    "print(\"更新后数据：\",total)\n",
    "print(\"-\"*70)\n",
    "\n",
    "print(\"现在 SKU-B 要退市，请将 SKU-B 这行记录删掉\")\n",
    "sku_b_index = -1\n",
    "for index in range(len(total)):\n",
    "    # 找到SKU-A，更新它的记录\n",
    "    item = total[index]\n",
    "    if item['sku'] == \"SKU-B\":\n",
    "        sku_b_index = index\n",
    "if(sku_b_index != -1 ):\n",
    "    del total[sku_b_index]\n",
    "print(\"更新后数据：\",total)\n",
    "print(\"-\"*70)\n",
    "\n",
    "print(\"使用切片方法显示 total 中的最后一行记录\")\n",
    "print(\"最后一行数据：\",total[-1])"
   ]
  }
 ],
 "metadata": {
  "kernelspec": {
   "display_name": "Python 3",
   "language": "python",
   "name": "python3"
  },
  "language_info": {
   "codemirror_mode": {
    "name": "ipython",
    "version": 3
   },
   "file_extension": ".py",
   "mimetype": "text/x-python",
   "name": "python",
   "nbconvert_exporter": "python",
   "pygments_lexer": "ipython3",
   "version": "3.7.6"
  },
  "toc": {
   "base_numbering": 1,
   "nav_menu": {},
   "number_sections": true,
   "sideBar": true,
   "skip_h1_title": false,
   "title_cell": "Table of Contents",
   "title_sidebar": "Contents",
   "toc_cell": false,
   "toc_position": {},
   "toc_section_display": true,
   "toc_window_display": true
  },
  "varInspector": {
   "cols": {
    "lenName": 16,
    "lenType": 16,
    "lenVar": 40
   },
   "kernels_config": {
    "python": {
     "delete_cmd_postfix": "",
     "delete_cmd_prefix": "del ",
     "library": "var_list.py",
     "varRefreshCmd": "print(var_dic_list())"
    },
    "r": {
     "delete_cmd_postfix": ") ",
     "delete_cmd_prefix": "rm(",
     "library": "var_list.r",
     "varRefreshCmd": "cat(var_dic_list()) "
    }
   },
   "types_to_exclude": [
    "module",
    "function",
    "builtin_function_or_method",
    "instance",
    "_Feature"
   ],
   "window_display": false
  }
 },
 "nbformat": 4,
 "nbformat_minor": 4
}

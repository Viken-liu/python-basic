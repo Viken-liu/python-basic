{
 "cells": [
  {
   "cell_type": "markdown",
   "metadata": {},
   "source": [
    "# 1. 基础知识重复提醒\n",
    "\n",
    "有同学会问，不是上一章讲过这些吗？为什么要要重复提醒呢？\n",
    "\n",
    "是的，知识学习理解的过程是一个反复的过程，我们小时候第一次学习汉字时，基础字练了20次以上。\n",
    "\n",
    "对于 Python 这么一门语言的练习，基础知识的理解我建议要重复3次以上。\n",
    "\n",
    "老师把重要的基础知识重复出现3次，大家要把作业练习3次以上，老师推荐的各种链接多看一下。\n",
    "\n",
    "学习新知识时快就是慢，慢就是快！\n",
    "\n",
    "大家不但要做我们习题集上的题目，也要练习书上的例题，练习越多理解越深！\n",
    "\n",
    "## 新知识函数的提醒\n",
    "\n",
    "函数是代码复用的基础单元，我们把常用的代码封装一个个函数，减少大家的工作量\n",
    "\n",
    "我们前使用的 print, range, len 都是函数，现在我们不但要学习怎么用函数，也要学习怎么自己写一个个函数\n",
    "\n",
    "函数的目的不是为了增加了大家的工作量，而是为了降低大家的工作量；\n",
    "\n",
    "大家放心，从这往后学习，大家会越学越\"容易\"。\n",
    "\n",
    "## 写代码报错了怎么办\n",
    "\n",
    "学习了怎么看错误信息，学会了怎么 Google/Baidu查找出错信息，就掌握了最重要的一门程序技能；\n",
    "\n",
    "有人说学会这两项，就等于半个初级程序员了；学习 Python不是为学习一个固定的知识，而是为了学习解决问题的方法。\n",
    "\n",
    "* [必看: Zane 老师整理了检查错误的方法](https://www.yinxiang.com/everhub/note/1e44d717-75c3-413d-83ad-5716126ccaa6)\n",
    "* [新人必看：17个新手常见Python运行时错误](https://www.oschina.net/question/89964_62779)\n",
    "\n",
    "\n",
    "## Python 各种基础知识\n",
    "---\n",
    "本章\n",
    "\n",
    "---\n",
    "历史\n",
    "\n",
    "* [Zane老师整理Python基础知识](https://www.yinxiang.com/everhub/note/414a0a33-7d28-4c27-af22-23f950b990fd)\n",
    "* [Python3基础教程](https://www.runoob.com/python3/python3-tutorial.html)\n",
    "* [Python 运算符](https://www.runoob.com/python/python-operators.html)\n",
    "* [Python3 条件控制](https://www.runoob.com/python3/python3-conditional-statements.html)\n",
    "* [Python3 循环语句](https://www.runoob.com/python3/python3-loop.html)\n",
    "* [Python range() 函数用法](https://www.runoob.com/python/python-func-range.html)\n",
    "* [Python continue 语句](https://www.runoob.com/python/python-continue-statement.html) 详解\n",
    "* [Python While 循环语句](https://www.runoob.com/python/python-while-loop.html)\n",
    "* [Python break 语句](https://www.runoob.com/python/python-break-statement.html)\n",
    "* [Python for 循环语句](https://www.runoob.com/python/python-for-loop.html)\n",
    "* [Python 列表(List)](https://www.runoob.com/python/python-lists.html)\n",
    "* [Python 字典(Dictionary)](https://www.runoob.com/python/python-dictionary.html)\n",
    "* [Python 元组](https://www.runoob.com/python/python-tuples.html)\n",
    "* [Python 字典(Dictionary) get()方法](https://www.runoob.com/python/att-dictionary-get.html)\n",
    "* [Python List sort()方法](https://www.runoob.com/python/att-list-sort.html)\n",
    "* [Python 切片介绍](https://www.liaoxuefeng.com/wiki/1016959663602400/1017269965565856)\n",
    "*  [Python基础学习-Python中最常见括号()、[]、{}的区别](https://www.cnblogs.com/xuxiaolu/p/4726064.html)\n",
    "* [Python List append()方法](https://www.runoob.com/python/att-list-append.html)\n",
    "* [Python List insert()方法](https://www.runoob.com/python/att-list-insert.html)\n",
    "* [Python List index()方法](https://www.runoob.com/python/att-list-index.html)\n",
    "* [python，list中删除的三种方法del、remove、pop](https://blog.csdn.net/weixin_42814873/article/details/83377431)\n",
    "* [Python List sort()方法](https://www.runoob.com/python/att-list-sort.html)\n",
    "\n",
    "\n",
    "## 什么是 Markdown(选学)\n",
    "\n",
    "学习了解 Markdown 可以让大家的代码也有漂亮的文字配合！\n",
    "\n",
    "* [Markdown 是什么](https://www.zhihu.com/question/19963642)"
   ]
  },
  {
   "cell_type": "markdown",
   "metadata": {},
   "source": [
    "# 高级自动邮件机器人1\n",
    "* 假设计你是要给自动给客户发邮件的运营\n",
    "\n",
    "下面的是客户的订单数据：\n",
    "\n",
    "```\n",
    "orders = [\n",
    "    {\"buyer_name\": \"Pony\",\"product\": \"MacBook\"},\n",
    "    {\"buyer_name\": \"Bill\",\"product\": \"AirPods\"},\n",
    "    {\"buyer_name\": \"Hank\",\"product\": \"iPhone\"}\n",
    "]\n",
    "```\n",
    "* 写一个函数 deliver_mail 接收客户姓名，产品名，然后输出下面格式的邮件：\n",
    "\n",
    "Dear [用户姓名]:\n",
    "    \n",
    "Your purchased product : [产品名] is delivered!\n",
    "    \n",
    "Thanks for your choosing!\n",
    "    \n",
    "* 遍历orders, 调用 deliver_mail 函数，生成3封邮件\n",
    "\n",
    "---\n",
    "\n",
    "解题提示：这是一道复合题 \n",
    "\n",
    "* orders 的最外层是 [], 表示它是一个list\n",
    "\n",
    "  可以用 print(type(orders)) 来看它是什么类型\n",
    "\n",
    "\n",
    "* orders 的里层是 {}, 表示里面放的是 dict; \n",
    "\n",
    "  orders 是一个里面成员都是 dict的 list,\n",
    "  \n",
    "  orders[0] 表示是 orders 的第一个元素，print(type(orders[0]))\n",
    "\n",
    "\n",
    "* 如果你想知识 orders (订单表）里有多个 order(订单), 可以使用 len(orders) 查看里面有多少订单\n",
    "\n",
    "* 如果要遍历订单表有两种方法：\n",
    "\n",
    "```\n",
    "# 第一种方法更为简单\n",
    "for order in orders:\n",
    "    print(order)\n",
    "```\n",
    "\n",
    "```\n",
    "#第二种方法知道是第几个订单\n",
    "for i in range(len(orders)):\n",
    "    order = orders[i]\n",
    "    print(order)\n",
    "```\n"
   ]
  },
  {
   "cell_type": "code",
   "execution_count": 6,
   "metadata": {
    "ExecuteTime": {
     "end_time": "2020-07-14T09:36:17.418139Z",
     "start_time": "2020-07-14T09:36:17.413010Z"
    }
   },
   "outputs": [
    {
     "name": "stdout",
     "output_type": "stream",
     "text": [
      "\n",
      "    Dear Pony:\n",
      "\n",
      "    Your purchased product : MacBook is delivered!\n",
      "\n",
      "    Thanks for your choosing!\n",
      "    \n",
      "----------Mail Delivered!--------------------\n",
      "\n",
      "    Dear Bill:\n",
      "\n",
      "    Your purchased product : AirPods is delivered!\n",
      "\n",
      "    Thanks for your choosing!\n",
      "    \n",
      "----------Mail Delivered!--------------------\n",
      "\n",
      "    Dear Hank:\n",
      "\n",
      "    Your purchased product : iPhone is delivered!\n",
      "\n",
      "    Thanks for your choosing!\n",
      "    \n",
      "----------Mail Delivered!--------------------\n"
     ]
    }
   ],
   "source": [
    "orders = [\n",
    "  {\"buyer_name\": \"Pony\",\"product\": \"MacBook\"},\n",
    "  {\"buyer_name\": \"Bill\",\"product\": \"AirPods\"},\n",
    "  {\"buyer_name\": \"Hank\",\"product\": \"iPhone\"}\n",
    "]\n",
    "\n",
    "def deliver_mail(buyer_name,product):\n",
    "    email_template = \"\"\"\n",
    "    Dear %s:\n",
    "\n",
    "    Your purchased product : %s is delivered!\n",
    "\n",
    "    Thanks for your choosing!\n",
    "    \"\"\"\n",
    "    email_body = email_template % (buyer_name,product)\n",
    "    print(email_body)\n",
    "    print(\"----------Mail Delivered!--------------------\")\n",
    "\n",
    "for order in orders:\n",
    "    buyer_name = order['buyer_name']\n",
    "    product = order['product']\n",
    "    deliver_mail(buyer_name,product)"
   ]
  },
  {
   "cell_type": "markdown",
   "metadata": {},
   "source": [
    "# 小小数学家1\n",
    "* 定义一个函数autosum，输出任意指定数字内的数字的和，结果为一个数字\n",
    "* 例如：执行autosum(3)，得到 6\n"
   ]
  },
  {
   "cell_type": "code",
   "execution_count": 14,
   "metadata": {
    "ExecuteTime": {
     "end_time": "2020-07-14T09:44:35.784968Z",
     "start_time": "2020-07-14T09:44:35.780761Z"
    }
   },
   "outputs": [
    {
     "name": "stdout",
     "output_type": "stream",
     "text": [
      "autosum(3): 6\n",
      "autosum(10): 55\n",
      "autosum(100): 5050\n"
     ]
    }
   ],
   "source": [
    "def autosum(max_num):\n",
    "    total = 0\n",
    "    for i in range(1,max_num+1):\n",
    "        total += i\n",
    "    return total\n",
    "\n",
    "print(\"autosum(3):\",autosum(3))        \n",
    "print(\"autosum(10):\",autosum(10))        \n",
    "print(\"autosum(100):\",autosum(100))        \n",
    "\n",
    "        "
   ]
  },
  {
   "cell_type": "markdown",
   "metadata": {},
   "source": [
    "# 小小数学家2\n",
    "* 定义一个函数outeven，输出任意指定数字内的全部偶数，结果为一个列表\n",
    "* 例如：执行outeven(10)，得到[0, 2, 4, 6, 8, 10]"
   ]
  },
  {
   "cell_type": "code",
   "execution_count": 1,
   "metadata": {
    "ExecuteTime": {
     "end_time": "2020-07-18T00:06:52.395838Z",
     "start_time": "2020-07-18T00:06:52.390937Z"
    }
   },
   "outputs": [
    {
     "name": "stdout",
     "output_type": "stream",
     "text": [
      "outeven(3): [0, 2]\n",
      "outeven(10): [0, 2, 4, 6, 8, 10]\n",
      "outeven(100): [0, 2, 4, 6, 8, 10, 12, 14, 16, 18, 20, 22, 24, 26, 28, 30, 32, 34, 36, 38, 40, 42, 44, 46, 48, 50, 52, 54, 56, 58, 60, 62, 64, 66, 68, 70, 72, 74, 76, 78, 80, 82, 84, 86, 88, 90, 92, 94, 96, 98, 100]\n"
     ]
    }
   ],
   "source": [
    "def outeven(max_num):\n",
    "    ret_list = []\n",
    "    for i in range(0,max_num+1):\n",
    "        if(i % 2 == 0):\n",
    "            ret_list.append(i)\n",
    "    return ret_list\n",
    "\n",
    "print(\"outeven(3):\",outeven(3))        \n",
    "print(\"outeven(10):\",outeven(10))        \n",
    "print(\"outeven(100):\",outeven(100))        \n",
    "\n",
    "        "
   ]
  },
  {
   "cell_type": "code",
   "execution_count": null,
   "metadata": {},
   "outputs": [],
   "source": []
  }
 ],
 "metadata": {
  "kernelspec": {
   "display_name": "Python 3",
   "language": "python",
   "name": "python3"
  },
  "language_info": {
   "codemirror_mode": {
    "name": "ipython",
    "version": 3
   },
   "file_extension": ".py",
   "mimetype": "text/x-python",
   "name": "python",
   "nbconvert_exporter": "python",
   "pygments_lexer": "ipython3",
   "version": "3.7.6"
  },
  "toc": {
   "base_numbering": 1,
   "nav_menu": {},
   "number_sections": true,
   "sideBar": true,
   "skip_h1_title": false,
   "title_cell": "Table of Contents",
   "title_sidebar": "Contents",
   "toc_cell": false,
   "toc_position": {},
   "toc_section_display": true,
   "toc_window_display": true
  },
  "varInspector": {
   "cols": {
    "lenName": 16,
    "lenType": 16,
    "lenVar": 40
   },
   "kernels_config": {
    "python": {
     "delete_cmd_postfix": "",
     "delete_cmd_prefix": "del ",
     "library": "var_list.py",
     "varRefreshCmd": "print(var_dic_list())"
    },
    "r": {
     "delete_cmd_postfix": ") ",
     "delete_cmd_prefix": "rm(",
     "library": "var_list.r",
     "varRefreshCmd": "cat(var_dic_list()) "
    }
   },
   "types_to_exclude": [
    "module",
    "function",
    "builtin_function_or_method",
    "instance",
    "_Feature"
   ],
   "window_display": false
  }
 },
 "nbformat": 4,
 "nbformat_minor": 4
}

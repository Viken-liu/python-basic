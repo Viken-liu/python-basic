{
 "cells": [
  {
   "cell_type": "markdown",
   "metadata": {},
   "source": [
    "# 高级自动邮件机器人1\n",
    "* 假设计你是要给自动给客户发邮件的运营\n",
    "\n",
    "下面的是客户的订单数据：\n",
    "\n",
    "```\n",
    "orders = [\n",
    "    {\"buyer_name\": \"Pony\",\"product\": \"MacBook\"},\n",
    "    {\"buyer_name\": \"Bill\",\"product\": \"AirPods\"},\n",
    "    {\"buyer_name\": \"Hank\",\"product\": \"iPhone\"}\n",
    "]\n",
    "```\n",
    "* 写一个函数 deliver_mail 接收客户姓名，产品名，然后输出下面格式的邮件：\n",
    "\n",
    "Dear [用户姓名]:\n",
    "    \n",
    "Your purchased product : [产品名] is delivered!\n",
    "    \n",
    "Thanks for your choosing!\n",
    "    \n",
    "* 遍历orders, 调用 deliver_mail 函数，生成3封邮件\n",
    "\n",
    "---\n",
    "\n",
    "解题提示：这是一道复合题 \n",
    "\n",
    "* orders 的最外层是 [], 表示它是一个list\n",
    "\n",
    "  可以用 print(type(orders)) 来看它是什么类型\n",
    "\n",
    "\n",
    "* orders 的里层是 {}, 表示里面放的是 dict; \n",
    "\n",
    "  orders 是一个里面成员都是 dict的 list,\n",
    "  \n",
    "  orders[0] 表示是 orders 的第一个元素，print(type(orders[0]))\n",
    "\n",
    "\n",
    "* 如果你想知识 orders (订单表）里有多个 order(订单), 可以使用 len(orders) 查看里面有多少订单\n",
    "\n",
    "* 如果要遍历订单表有两种方法：\n",
    "\n",
    "```\n",
    "# 第一种方法更为简单\n",
    "for order in orders:\n",
    "    print(order)\n",
    "```\n",
    "\n",
    "```\n",
    "#第二种方法知道是第几个订单\n",
    "for i in range(len(orders)):\n",
    "    order = orders[i]\n",
    "    print(order)\n",
    "```\n"
   ]
  },
  {
   "cell_type": "markdown",
   "metadata": {},
   "source": [
    "# 小小数学家1\n",
    "* 定义一个函数autosum，输出任意指定数字内的数字的和，结果为一个数字\n",
    "* 例如：执行autosum(3)，得到 6\n"
   ]
  },
  {
   "cell_type": "markdown",
   "metadata": {},
   "source": [
    "# 小小数学家2\n",
    "* 定义一个函数outeven，输出任意指定数字内的全部偶数，结果为一个列表\n",
    "* 例如：执行outeven(10)，得到[2, 4, 6, 8, 10]"
   ]
  }
 ],
 "metadata": {
  "kernelspec": {
   "display_name": "Python 3",
   "language": "python",
   "name": "python3"
  },
  "language_info": {
   "codemirror_mode": {
    "name": "ipython",
    "version": 3
   },
   "file_extension": ".py",
   "mimetype": "text/x-python",
   "name": "python",
   "nbconvert_exporter": "python",
   "pygments_lexer": "ipython3",
   "version": "3.7.6"
  },
  "toc": {
   "base_numbering": 1,
   "nav_menu": {},
   "number_sections": true,
   "sideBar": true,
   "skip_h1_title": false,
   "title_cell": "Table of Contents",
   "title_sidebar": "Contents",
   "toc_cell": false,
   "toc_position": {},
   "toc_section_display": true,
   "toc_window_display": false
  },
  "varInspector": {
   "cols": {
    "lenName": 16,
    "lenType": 16,
    "lenVar": 40
   },
   "kernels_config": {
    "python": {
     "delete_cmd_postfix": "",
     "delete_cmd_prefix": "del ",
     "library": "var_list.py",
     "varRefreshCmd": "print(var_dic_list())"
    },
    "r": {
     "delete_cmd_postfix": ") ",
     "delete_cmd_prefix": "rm(",
     "library": "var_list.r",
     "varRefreshCmd": "cat(var_dic_list()) "
    }
   },
   "types_to_exclude": [
    "module",
    "function",
    "builtin_function_or_method",
    "instance",
    "_Feature"
   ],
   "window_display": false
  }
 },
 "nbformat": 4,
 "nbformat_minor": 4
}

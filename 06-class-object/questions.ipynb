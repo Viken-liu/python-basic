{
 "cells": [
  {
   "cell_type": "markdown",
   "metadata": {},
   "source": [
    "# 高级订单自动邮件/短信机器人\n",
    "* 假设计你是要给自动给客户发邮件的运营\n",
    "```\n",
    "orders = [\n",
    "    {\"buyer_name\": \"Pony\",\"product\": \"MacBook\",\"email\": \"pony@qq.com\",\"phone\": 13812341234},\n",
    "    {\"buyer_name\": \"Bill\",\"product\": \"AirPods\",\"email\": \"bill@ms.com\",\"phone\": 13812341235},\n",
    "    {\"buyer_name\": \"Hank\",\"product\": \"iPhone\",\"email\": \"hank@xyz.com\",\"phone\": 13812341239},\n",
    "]\n",
    "```\n",
    "* 写一个订单类 Order，构造函数接收4个参数：客户姓名，产品名，邮箱，手机号\n",
    "* 为 Order 写一个函数 deliver_mail 如果调用就输出下面格式的邮件：\n",
    "\n",
    "to [email]\n",
    "\n",
    "Dear [用户姓名]:\n",
    "    \n",
    "    Your purchased product : [产品名] is delivered!\n",
    "    \n",
    "    Thanks for your choosing!\n",
    "    \n",
    "* 为 Order 写一个函数 deliver_sms 如果调用就输出下面格式的短信：\n",
    "\n",
    "to [phone]\n",
    "\n",
    "Dear [用户姓名]:\n",
    "    \n",
    "    Your purchased product : [产品名] is delivered!\n",
    "    \n",
    "    Thanks for your choosing!\n",
    "\n",
    "* 遍历orders, 创建 Order类的对象实例，对每个对象调用deliver_mail/deliver_sms 方法"
   ]
  },
  {
   "cell_type": "code",
   "execution_count": null,
   "metadata": {},
   "outputs": [],
   "source": []
  }
 ],
 "metadata": {
  "kernelspec": {
   "display_name": "Python 3",
   "language": "python",
   "name": "python3"
  },
  "language_info": {
   "codemirror_mode": {
    "name": "ipython",
    "version": 3
   },
   "file_extension": ".py",
   "mimetype": "text/x-python",
   "name": "python",
   "nbconvert_exporter": "python",
   "pygments_lexer": "ipython3",
   "version": "3.7.6"
  },
  "toc": {
   "base_numbering": 1,
   "nav_menu": {},
   "number_sections": true,
   "sideBar": true,
   "skip_h1_title": false,
   "title_cell": "Table of Contents",
   "title_sidebar": "Contents",
   "toc_cell": false,
   "toc_position": {},
   "toc_section_display": true,
   "toc_window_display": false
  },
  "varInspector": {
   "cols": {
    "lenName": 16,
    "lenType": 16,
    "lenVar": 40
   },
   "kernels_config": {
    "python": {
     "delete_cmd_postfix": "",
     "delete_cmd_prefix": "del ",
     "library": "var_list.py",
     "varRefreshCmd": "print(var_dic_list())"
    },
    "r": {
     "delete_cmd_postfix": ") ",
     "delete_cmd_prefix": "rm(",
     "library": "var_list.r",
     "varRefreshCmd": "cat(var_dic_list()) "
    }
   },
   "types_to_exclude": [
    "module",
    "function",
    "builtin_function_or_method",
    "instance",
    "_Feature"
   ],
   "window_display": false
  }
 },
 "nbformat": 4,
 "nbformat_minor": 4
}

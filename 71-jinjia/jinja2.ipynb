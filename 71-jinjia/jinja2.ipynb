{
 "cells": [
  {
   "cell_type": "markdown",
   "metadata": {},
   "source": [
    "# 学习用 jinja2 来拼接复杂的 html\n",
    "\n",
    "---\n",
    "背景介绍\n",
    "\n",
    "Jinja2是为python提供的一个功能齐全的模板引擎，它可以帮你轻松的拼出你想要文本或HTML\n",
    "\n",
    "\n",
    "---\n",
    "参考资料:\n",
    "* [Jinja2 Templating Engine Tutorial](https://medium.com/@jasonrigden/jinja2-templating-engine-tutorial-4bd31fb4aea3)"
   ]
  },
  {
   "cell_type": "markdown",
   "metadata": {},
   "source": [
    "# 安装 jinja2 Python 包\n",
    "\n",
    "如果已安装，请使用\"#\" 将下面这一行注释"
   ]
  },
  {
   "cell_type": "code",
   "execution_count": 1,
   "metadata": {
    "ExecuteTime": {
     "end_time": "2020-09-16T09:10:32.703101Z",
     "start_time": "2020-09-16T09:10:30.888098Z"
    }
   },
   "outputs": [
    {
     "name": "stdout",
     "output_type": "stream",
     "text": [
      "Requirement already satisfied: jinja2 in /Users/peter/opt/anaconda3/lib/python3.7/site-packages (2.11.1)\r\n",
      "Requirement already satisfied: MarkupSafe>=0.23 in /Users/peter/opt/anaconda3/lib/python3.7/site-packages (from jinja2) (1.1.1)\r\n"
     ]
    }
   ],
   "source": [
    "!pip install jinja2"
   ]
  },
  {
   "cell_type": "markdown",
   "metadata": {
    "ExecuteTime": {
     "end_time": "2020-09-16T09:33:32.852789Z",
     "start_time": "2020-09-16T09:33:32.834849Z"
    }
   },
   "source": [
    "# 初始化相关"
   ]
  },
  {
   "cell_type": "markdown",
   "metadata": {
    "ExecuteTime": {
     "end_time": "2020-09-16T09:35:11.049435Z",
     "start_time": "2020-09-16T09:35:11.047145Z"
    }
   },
   "source": [
    "## 导入 jinja2 相关的包"
   ]
  },
  {
   "cell_type": "code",
   "execution_count": 2,
   "metadata": {
    "ExecuteTime": {
     "end_time": "2020-09-16T09:10:32.727740Z",
     "start_time": "2020-09-16T09:10:32.706555Z"
    }
   },
   "outputs": [],
   "source": [
    "\n",
    "from jinja2 import Environment, FileSystemLoader"
   ]
  },
  {
   "cell_type": "markdown",
   "metadata": {},
   "source": [
    "## 初始化 jinja2 相关变量\n",
    "\n",
    "* FileSystemLoader 是一个文件加载器，参数要指定模板文件的路径\n",
    "  \n",
    "  因为模板文件就在当前目录，所以我们这里用了 \".\", \n",
    "  \n",
    "  构建好放到 file_loader 中\n",
    "  \n",
    "* 然后再以 file_loader 为参数构建一个 Environment 类型的对象\n",
    "\n",
    "  放到 env 中"
   ]
  },
  {
   "cell_type": "code",
   "execution_count": 3,
   "metadata": {
    "ExecuteTime": {
     "end_time": "2020-09-16T09:10:32.732976Z",
     "start_time": "2020-09-16T09:10:32.729950Z"
    }
   },
   "outputs": [],
   "source": [
    "file_loader = FileSystemLoader('.')\n",
    "env = Environment(loader=file_loader)"
   ]
  },
  {
   "cell_type": "markdown",
   "metadata": {},
   "source": [
    "# 最简单的模板\n",
    "\n",
    "* 我有一个 helloworld.txt\n",
    "\n",
    "  里面的内容是:\n",
    "        \n",
    "  Just Hello World!\n",
    "  \n",
    "\n",
    "* 我们使用 env.get_template 加载了 helloworld.txt\n",
    "\n",
    "  放到 template 中\n",
    "\n",
    "\n",
    "* 再调用 template 的 render() 方法进行渲染，将返回值放到 output"
   ]
  },
  {
   "cell_type": "code",
   "execution_count": 4,
   "metadata": {
    "ExecuteTime": {
     "end_time": "2020-09-16T09:10:32.740663Z",
     "start_time": "2020-09-16T09:10:32.734960Z"
    }
   },
   "outputs": [
    {
     "name": "stdout",
     "output_type": "stream",
     "text": [
      "Just Hello World!\n"
     ]
    }
   ],
   "source": [
    "\n",
    "template = env.get_template('helloworld.txt')\n",
    "output = template.render()\n",
    "print(output)"
   ]
  },
  {
   "cell_type": "markdown",
   "metadata": {},
   "source": [
    "# 简单变量的模板\n",
    "\n",
    "* 我有一个 lamb.j2\n",
    "\n",
    "  里面的内容是:\n",
    "        \n",
    "  {{ name }} had a little lamb.\n",
    "  \n",
    "\n",
    "* 我们使用 env.get_template 加载了 lamb.j2\n",
    "\n",
    "  放到 template 中\n",
    "\n",
    "\n",
    "* 再调用 template 的 render() 方法进行渲染，\n",
    "\n",
    "  在 render 函数参数中指定 name 变量的值为 \"Peter\"\n",
    "  \n",
    "  将render函数的返回值放到 output\n",
    "  \n",
    "  \n",
    "* 最后打印输出  "
   ]
  },
  {
   "cell_type": "code",
   "execution_count": 5,
   "metadata": {
    "ExecuteTime": {
     "end_time": "2020-09-16T09:10:32.746079Z",
     "start_time": "2020-09-16T09:10:32.742194Z"
    }
   },
   "outputs": [
    {
     "name": "stdout",
     "output_type": "stream",
     "text": [
      "Peter had a little lamb.\n"
     ]
    }
   ],
   "source": [
    "template = env.get_template('lamb.j2')\n",
    "output = template.render(name = \"Peter\")\n",
    "print(output)"
   ]
  },
  {
   "cell_type": "markdown",
   "metadata": {},
   "source": [
    "# 支持 For 循环的模板"
   ]
  },
  {
   "cell_type": "code",
   "execution_count": 6,
   "metadata": {
    "ExecuteTime": {
     "end_time": "2020-09-16T09:10:32.754357Z",
     "start_time": "2020-09-16T09:10:32.747807Z"
    }
   },
   "outputs": [
    {
     "name": "stdout",
     "output_type": "stream",
     "text": [
      "<h2>美国的前三位总统</h2>\n",
      "<ul>\n",
      "\n",
      "  <li>George Washington</li>\n",
      "\n",
      "  <li>John Adams</li>\n",
      "\n",
      "  <li>Thomas Jefferson</li>\n",
      "\n",
      "</ul>\n",
      "\n",
      "AAA\n",
      "\n",
      "\n",
      "\n"
     ]
    }
   ],
   "source": [
    "names = [\"George Washington\",\"John Adams\",\"Thomas Jefferson\"]\n",
    "title = \"美国的前三位总统\"\n",
    "\n",
    "template = env.get_template('simple_html.j2')\n",
    "output = template.render(title = title,names = names)\n",
    "print(output)"
   ]
  },
  {
   "cell_type": "code",
   "execution_count": null,
   "metadata": {},
   "outputs": [],
   "source": [
    "# 支持 For 循环 + 条件判断的模板"
   ]
  },
  {
   "cell_type": "code",
   "execution_count": 9,
   "metadata": {
    "ExecuteTime": {
     "end_time": "2020-09-16T09:27:42.431065Z",
     "start_time": "2020-09-16T09:27:42.424285Z"
    }
   },
   "outputs": [
    {
     "name": "stdout",
     "output_type": "stream",
     "text": [
      "<h2>美国的前三位总统</h2>\n",
      "<ul>\n",
      "\n",
      "\n",
      "  <li>\n",
      "  George Washington, \n",
      "  \n",
      "  Live little short\n",
      "    \n",
      "  </li>\n",
      "\n",
      "\n",
      "  <li>\n",
      "  John Adams, \n",
      "  \n",
      "  Live long\n",
      "    \n",
      "  </li>\n",
      "\n",
      "\n",
      "  <li>\n",
      "  Thomas Jefferson, \n",
      "  \n",
      "  Live long\n",
      "    \n",
      "  </li>\n",
      "\n",
      "</ul>\n",
      "\n"
     ]
    }
   ],
   "source": [
    "presidents = [\n",
    "    {\"name\": \"George Washington\", \"live\":67},\n",
    "    {\"name\": \"John Adams\", \"live\":91},\n",
    "    {\"name\": \"Thomas Jefferson\", \"live\":83},    \n",
    "]\n",
    "title = \"美国的前三位总统\"\n",
    "\n",
    "template = env.get_template('complex_html.j2')\n",
    "output = template.render(title = title,presidents = presidents)\n",
    "print(output)"
   ]
  },
  {
   "cell_type": "code",
   "execution_count": null,
   "metadata": {},
   "outputs": [],
   "source": []
  }
 ],
 "metadata": {
  "kernelspec": {
   "display_name": "Python 3",
   "language": "python",
   "name": "python3"
  },
  "language_info": {
   "codemirror_mode": {
    "name": "ipython",
    "version": 3
   },
   "file_extension": ".py",
   "mimetype": "text/x-python",
   "name": "python",
   "nbconvert_exporter": "python",
   "pygments_lexer": "ipython3",
   "version": "3.7.6"
  },
  "toc": {
   "base_numbering": 1,
   "nav_menu": {},
   "number_sections": true,
   "sideBar": true,
   "skip_h1_title": false,
   "title_cell": "Table of Contents",
   "title_sidebar": "Contents",
   "toc_cell": false,
   "toc_position": {},
   "toc_section_display": true,
   "toc_window_display": false
  },
  "varInspector": {
   "cols": {
    "lenName": 16,
    "lenType": 16,
    "lenVar": 40
   },
   "kernels_config": {
    "python": {
     "delete_cmd_postfix": "",
     "delete_cmd_prefix": "del ",
     "library": "var_list.py",
     "varRefreshCmd": "print(var_dic_list())"
    },
    "r": {
     "delete_cmd_postfix": ") ",
     "delete_cmd_prefix": "rm(",
     "library": "var_list.r",
     "varRefreshCmd": "cat(var_dic_list()) "
    }
   },
   "types_to_exclude": [
    "module",
    "function",
    "builtin_function_or_method",
    "instance",
    "_Feature"
   ],
   "window_display": false
  }
 },
 "nbformat": 4,
 "nbformat_minor": 4
}
